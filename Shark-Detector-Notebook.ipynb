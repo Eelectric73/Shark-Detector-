{
 "cells": [
  {
   "cell_type": "markdown",
   "id": "11905996",
   "metadata": {},
   "source": [
    "Shar-Detector Notebook"
   ]
  },
  {
   "cell_type": "code",
   "execution_count": null,
   "id": "d24ddc32",
   "metadata": {},
   "outputs": [],
   "source": [
    "#%%writefile Shark-Detector\n",
    "## This is the current iteration of this program ignore others \n",
    "\n",
    "import os\n",
    "import cv2\n",
    "import numpy as np\n",
    "import tensorflow as tf\n",
    "from tensorflow import data as tf_data\n",
    "import keras\n",
    "from keras import layers \n",
    "\n",
    "import matplotlib.pyplot as plt\n",
    "from sklearn.model_selection import train_test_split\n",
    "\n",
    "print(\"Num GPUs Available: \", len(tf.config.list_physical_devices('GPU')))\n",
    "\n",
    "dataset_path = 'C:/Users/brodi/Desktop/CV-Project'\n",
    "shark_path = os.path.join(dataset_path, 'shark')\n",
    "no_shark_path = os.path.join(dataset_path, 'no_shark')\n",
    "validation_path = os.path.join(dataset_path, 'Test-Bench-1')\n",
    "\n",
    "if not os.path.exists(shark_path):\n",
    "    raise FileNotFoundError(f\"Shark Path not found\")\n",
    "if not os.path.exists(no_shark_path):\n",
    "    raise FileNotFoundError(f\"No_Shark Path not found\")\n",
    "    \n",
    "\n",
    "def preprocess(filepath):\n",
    "    img = cv2.imread(filepath)\n",
    "    if img is None:\n",
    "        print(f\"Failed to load image: {filepath}\")\n",
    "        return None\n",
    "    img = cv2.resize(img, (64, 64))\n",
    "    img = img/255.0\n",
    "    return img\n",
    "\n",
    "\n",
    "def load(shark_path, no_shark_path):\n",
    "    shark_images = [preprocess(os.path.join(shark_path, img)) for img in os.listdir(shark_path)\n",
    "                    if img.lower().endswith(('.jpg', '.jpeg', '.png', '.bmp', '.webp', '.gif', '.tif', '.tiff', '.jfif', '.avif'))]\n",
    "    no_shark_images = [preprocess(os.path.join(no_shark_path, img)) for img in os.listdir(no_shark_path)\n",
    "                       if img.lower().endswith(('.jpg', '.jpeg', '.png', '.bmp', '.webp', '.gif', '.tif', '.tiff', '.jfif', '.avif'))]\n",
    "    shark_images = [img for img in shark_images if img is not None]\n",
    "    no_shark_images = [img for img in no_shark_images if img is not None]\n",
    "    shark_labels = [1] * len(shark_images)\n",
    "    no_shark_labels = [0] * len(no_shark_images)\n",
    "    images = np.array(shark_images + no_shark_images)\n",
    "    labels = np.array(shark_labels + no_shark_labels)\n",
    "    return images, labels\n",
    "\n",
    "images, labels = load(shark_path, no_shark_path)\n",
    "train_images, val_images, train_labels, val_labels = train_test_split(images, labels, test_size=0.2, random_state=42)\n",
    "print(f\"Number of training images: {len(train_images)}\")\n",
    "print(f\"Number of validation images: {len(val_images)}\")\n",
    "\n",
    "\n",
    "base_model = tf.keras.applications.EfficientNetB0(\n",
    "    input_shape=(64, 64, 3),\n",
    "    include_top=False,\n",
    "    weights=None\n",
    ")\n",
    "\n",
    "model = tf.keras.Sequential([\n",
    "    base_model,\n",
    "    tf.keras.layers.GlobalAveragePooling2D(),\n",
    "    tf.keras.layers.BatchNormalization(), \n",
    "    tf.keras.layers.Dense(256),\n",
    "    tf.keras.layers.LeakyReLU(alpha=0.1), \n",
    "    tf.keras.layers.Dropout(0.5), \n",
    "    tf.keras.layers.Dense(1, activation='sigmoid')\n",
    "])\n",
    "\n",
    "model.compile(\n",
    "    optimizer='adam',\n",
    "    loss='binary_crossentropy',\n",
    "    metrics=['accuracy']\n",
    ")\n",
    "\n",
    "model.fit(\n",
    "    train_images,\n",
    "    train_labels,\n",
    "    validation_data=(val_images, val_labels),\n",
    "    epochs=24,\n",
    "    batch_size=8\n",
    ")\n",
    "print(\"Model trained successfully!\")\n",
    "print(\"\\nSaving model...\")\n",
    "model.save('shark_detector.keras')\n",
    "print(\"Model saved successfully!\")\n",
    "\n",
    "\n",
    "\n",
    "\n",
    "\n"
   ]
  },
  {
   "cell_type": "code",
   "execution_count": null,
   "id": "eb43138e",
   "metadata": {},
   "outputs": [],
   "source": [
    "#%writefile Data_Generator\n",
    "from better_bing_image_downloader import downloader\n",
    "query_string = 'aerial view of the ocean -shark -cityscapes'\n",
    "\n",
    "downloader(query_string, limit=100, output_dir='dataset', adult_filter_off=True,\n",
    "force_replace=False, timeout=60, filter=\"\", verbose=True, badsites= [], name='DataSet1')"
   ]
  },
  {
   "cell_type": "code",
   "execution_count": null,
   "id": "bb36be4a",
   "metadata": {},
   "outputs": [],
   "source": []
  },
  {
   "cell_type": "code",
   "execution_count": null,
   "id": "da98ae64",
   "metadata": {},
   "outputs": [],
   "source": []
  },
  {
   "cell_type": "code",
   "execution_count": null,
   "id": "ef639926",
   "metadata": {},
   "outputs": [],
   "source": []
  },
  {
   "cell_type": "code",
   "execution_count": null,
   "id": "b3937507",
   "metadata": {},
   "outputs": [],
   "source": []
  },
  {
   "cell_type": "code",
   "execution_count": null,
   "id": "a3f398d5",
   "metadata": {},
   "outputs": [],
   "source": []
  },
  {
   "cell_type": "code",
   "execution_count": null,
   "id": "2beadd21",
   "metadata": {},
   "outputs": [],
   "source": []
  },
  {
   "cell_type": "code",
   "execution_count": null,
   "id": "ebfd7a25",
   "metadata": {},
   "outputs": [],
   "source": []
  },
  {
   "cell_type": "code",
   "execution_count": null,
   "id": "49eec9c6",
   "metadata": {},
   "outputs": [],
   "source": []
  },
  {
   "cell_type": "code",
   "execution_count": null,
   "id": "d4379734",
   "metadata": {},
   "outputs": [],
   "source": []
  },
  {
   "cell_type": "code",
   "execution_count": null,
   "id": "1f477507",
   "metadata": {},
   "outputs": [],
   "source": []
  },
  {
   "cell_type": "code",
   "execution_count": null,
   "id": "ec537a45",
   "metadata": {},
   "outputs": [],
   "source": []
  },
  {
   "cell_type": "code",
   "execution_count": null,
   "id": "a3824bbc",
   "metadata": {},
   "outputs": [],
   "source": []
  },
  {
   "cell_type": "code",
   "execution_count": null,
   "id": "358f2d51",
   "metadata": {},
   "outputs": [],
   "source": []
  },
  {
   "cell_type": "code",
   "execution_count": null,
   "id": "19afa630",
   "metadata": {},
   "outputs": [],
   "source": []
  },
  {
   "cell_type": "code",
   "execution_count": null,
   "id": "8e203b3a",
   "metadata": {},
   "outputs": [],
   "source": []
  },
  {
   "cell_type": "code",
   "execution_count": null,
   "id": "910eb68c",
   "metadata": {},
   "outputs": [],
   "source": []
  },
  {
   "cell_type": "code",
   "execution_count": null,
   "id": "b67750cc",
   "metadata": {},
   "outputs": [],
   "source": []
  },
  {
   "cell_type": "code",
   "execution_count": null,
   "id": "f5dc7893",
   "metadata": {},
   "outputs": [],
   "source": []
  },
  {
   "cell_type": "code",
   "execution_count": null,
   "id": "bea246aa",
   "metadata": {},
   "outputs": [],
   "source": []
  },
  {
   "cell_type": "code",
   "execution_count": null,
   "id": "01d1690c",
   "metadata": {},
   "outputs": [],
   "source": []
  },
  {
   "cell_type": "code",
   "execution_count": null,
   "id": "998ddb63",
   "metadata": {},
   "outputs": [],
   "source": []
  },
  {
   "cell_type": "code",
   "execution_count": null,
   "id": "35744b10",
   "metadata": {},
   "outputs": [],
   "source": []
  },
  {
   "cell_type": "code",
   "execution_count": null,
   "id": "23686c3b",
   "metadata": {},
   "outputs": [],
   "source": []
  },
  {
   "cell_type": "code",
   "execution_count": null,
   "id": "b80da300",
   "metadata": {},
   "outputs": [],
   "source": []
  },
  {
   "cell_type": "code",
   "execution_count": null,
   "id": "e3fd59b3",
   "metadata": {},
   "outputs": [],
   "source": []
  },
  {
   "cell_type": "code",
   "execution_count": null,
   "id": "f1107f9b",
   "metadata": {},
   "outputs": [],
   "source": []
  },
  {
   "cell_type": "code",
   "execution_count": null,
   "id": "fe65862c",
   "metadata": {},
   "outputs": [],
   "source": []
  },
  {
   "cell_type": "code",
   "execution_count": null,
   "id": "888a4f7e",
   "metadata": {},
   "outputs": [],
   "source": []
  },
  {
   "cell_type": "code",
   "execution_count": null,
   "id": "bd56e535",
   "metadata": {},
   "outputs": [],
   "source": []
  }
 ],
 "metadata": {
  "kernelspec": {
   "display_name": "Python 3 (ipykernel)",
   "language": "python",
   "name": "python3"
  },
  "language_info": {
   "codemirror_mode": {
    "name": "ipython",
    "version": 3
   },
   "file_extension": ".py",
   "mimetype": "text/x-python",
   "name": "python",
   "nbconvert_exporter": "python",
   "pygments_lexer": "ipython3",
   "version": "3.10.14"
  }
 },
 "nbformat": 4,
 "nbformat_minor": 5
}
